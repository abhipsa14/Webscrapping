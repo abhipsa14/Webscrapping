{
 "cells": [
  {
   "cell_type": "markdown",
   "id": "319ae883",
   "metadata": {},
   "source": [
    "Web Scrapping refers to the process of extracting data from websites. Web scraping involves using a web browser's developer tools or a specialized scraping tool to extract structured data from websites."
   ]
  },
  {
   "cell_type": "code",
   "execution_count": 2,
   "id": "f63c0d4a",
   "metadata": {},
   "outputs": [],
   "source": [
    "import requests\n",
    "from bs4 import BeautifulSoup as bs\n",
    "from urllib.request import urlopen\n",
    "import logging\n"
   ]
  },
  {
   "cell_type": "markdown",
   "id": "7379b39f",
   "metadata": {},
   "source": [
    "You can provide your own search query by replacing \"laptop\" with the desired product name."
   ]
  },
  {
   "cell_type": "code",
   "execution_count": 3,
   "id": "2a5a2d78",
   "metadata": {},
   "outputs": [
    {
     "data": {
      "text/plain": [
       "'https://www.flipkart.com/search?q=laptop'"
      ]
     },
     "execution_count": 3,
     "metadata": {},
     "output_type": "execute_result"
    }
   ],
   "source": [
    "flipcart_url = \"https://www.flipkart.com/search?q=\" + \"laptop\"\n",
    "flipcart_url"
   ]
  },
  {
   "cell_type": "markdown",
   "id": "d96f0c1b",
   "metadata": {},
   "source": [
    "urlopen will open the webpage and read it's content."
   ]
  },
  {
   "cell_type": "code",
   "execution_count": 11,
   "id": "9528ac19",
   "metadata": {},
   "outputs": [],
   "source": [
    "urlclient = urlopen(flipcart_url)"
   ]
  },
  {
   "cell_type": "code",
   "execution_count": 12,
   "id": "1c9b31c9",
   "metadata": {},
   "outputs": [],
   "source": [
    "flipcart_page = urlclient.read()"
   ]
  },
  {
   "cell_type": "code",
   "execution_count": 14,
   "id": "60b8453e",
   "metadata": {},
   "outputs": [],
   "source": [
    "flipkart_html = bs(flipcart_page, \"html.parser\")"
   ]
  },
  {
   "cell_type": "code",
   "execution_count": 16,
   "id": "e38ebf20",
   "metadata": {},
   "outputs": [],
   "source": [
    "bigbox = flipkart_html.find_all(\"div\", {\"class\": \"cPHDOP col-12-12\"})"
   ]
  },
  {
   "cell_type": "code",
   "execution_count": 17,
   "id": "45f98e2c",
   "metadata": {},
   "outputs": [
    {
     "data": {
      "text/plain": [
       "30"
      ]
     },
     "execution_count": 17,
     "metadata": {},
     "output_type": "execute_result"
    }
   ],
   "source": [
    "len(bigbox)"
   ]
  },
  {
   "cell_type": "code",
   "execution_count": 19,
   "id": "2d346966",
   "metadata": {},
   "outputs": [],
   "source": [
    "del bigbox[0:3]"
   ]
  },
  {
   "cell_type": "code",
   "execution_count": 24,
   "id": "462d39b9",
   "metadata": {},
   "outputs": [
    {
     "data": {
      "text/plain": [
       "<a class=\"CGtC98\" href=\"/lenovo-chromebook-mediatek-kompanio-520-8-gb-128-gb-emmc-storage-chrome-os-14m868-thin-light-laptop/p/itm4dc67999fe3de?pid=COMGTR89FPA5ZWVC&amp;lid=LSTCOMGTR89FPA5ZWVCASD6KX&amp;marketplace=FLIPKART&amp;q=laptop&amp;store=6bo%2Fb5g&amp;spotlightTagId=default_TrendingId_6bo%2Fb5g&amp;srno=s_1_7&amp;otracker=search&amp;fm=organic&amp;iid=ad95a1c6-807a-479a-836c-904bd931bd33.COMGTR89FPA5ZWVC.SEARCH&amp;ppt=None&amp;ppn=None&amp;ssid=1qdr4yvxz40000001747680303896&amp;qH=312f91285e048e09\" rel=\"noopener noreferrer\" target=\"_blank\"><div></div><div class=\"Otbq5D\"><div class=\"yPq5Io\"><div><div class=\"_4WELSP\" style=\"height:200px;width:200px\"><img alt=\"Lenovo Chromebook MediaTek Kompanio 520 - (8 GB/128 GB EMMC Storage/Chrome OS) 14M868 Thin and Light L...\" class=\"DByuf4\" loading=\"eager\" src=\"https://rukminim2.flixcart.com/image/312/312/xif0q/computer/f/6/g/-original-imagy3tzbj3xgvu4.jpeg?q=70\"/></div></div></div><div class=\"qaR90o\"><div class=\"A8uQAd\"><span class=\"Lni97G\"><label class=\"tJjCVx\"><input class=\"vn9L2C\" readonly=\"\" type=\"checkbox\"/><div class=\"XqNaEv\"></div></label></span><label class=\"uu79Xy\"><span>Add to Compare</span></label></div></div><div class=\"oUss6M ssUU08\"><div class=\"+7E521\"><svg class=\"N1bADF\" height=\"16\" viewbox=\"0 0 20 16\" width=\"16\" xmlns=\"http://www.w3.org/2000/svg\"><path class=\"x1UMqG\" d=\"M8.695 16.682C4.06 12.382 1 9.536 1 6.065 1 3.219 3.178 1 5.95 1c1.566 0 3.069.746 4.05 1.915C10.981 1.745 12.484 1 14.05 1 16.822 1 19 3.22 19 6.065c0 3.471-3.06 6.316-7.695 10.617L10 17.897l-1.305-1.215z\" fill=\"#2874F0\" fill-rule=\"evenodd\" opacity=\".9\" stroke=\"#FFF\"></path></svg></div></div></div><div class=\"yKfJKb row\"><div class=\"col col-7-12\"><div class=\"KzDlHZ\">Lenovo Chromebook MediaTek Kompanio 520 - (8 GB/128 GB EMMC Storage/Chrome OS) 14M868 Thin and Light L...</div><div class=\"_5OesEi\"><span class=\"Y1HWO0\" id=\"productRating_LSTCOMGTR89FPA5ZWVCASD6KX_COMGTR89FPA5ZWVC_\"><div class=\"XQDdHH\">3.8<img class=\"Rza2QY\" src=\"data:image/svg+xml;base64,PHN2ZyB4bWxucz0iaHR0cDovL3d3dy53My5vcmcvMjAwMC9zdmciIHdpZHRoPSIxMyIgaGVpZ2h0PSIxMiI+PHBhdGggZmlsbD0iI0ZGRiIgZD0iTTYuNSA5LjQzOWwtMy42NzQgMi4yMy45NC00LjI2LTMuMjEtMi44ODMgNC4yNTQtLjQwNEw2LjUuMTEybDEuNjkgNC4wMSA0LjI1NC40MDQtMy4yMSAyLjg4Mi45NCA0LjI2eiIvPjwvc3ZnPg==\"/></div></span><span class=\"Wphh3N\"><span><span>1,782 Ratings </span><span class=\"hG7V+4\">&amp;</span><span> 165 Reviews</span></span></span></div><div class=\"_6NESgJ\"><ul class=\"G4BRas\"><li class=\"J+igdf\">MediaTek Kompanio 520 Processor</li><li class=\"J+igdf\">8 GB LPDDR4X RAM</li><li class=\"J+igdf\">Chrome Operating System</li><li class=\"J+igdf\">35.56 cm (14 inch) Display</li><li class=\"J+igdf\">1 Year Carry-in Warranty</li></ul></div></div><div class=\"col col-5-12 BfVC2z\"><div class=\"cN1yYO\"><div class=\"hl05eU\"><div class=\"Nx9bqj _4b5DiR\">₹14,990</div><div class=\"yRaY8j ZYYwLA\">₹<!-- -->30,790</div><div class=\"UkUFwK\"><span>51% off</span></div></div><div class=\"k6cAZE dlFt9U\"><div><div class=\"yiggsN\" style=\"color:#000000;font-size:12px;font-weight:400\">Free delivery</div></div></div></div><div class=\"M4DNwV\"><div class=\"n5vj9c\"><div class=\"yiggsN O5Fpg8\" style=\"color:#26A541;font-size:14px;font-weight:700\">Bank Offer</div></div></div></div></div></a>"
      ]
     },
     "execution_count": 24,
     "metadata": {},
     "output_type": "execute_result"
    }
   ],
   "source": [
    "bigbox[5].div.div.div.a"
   ]
  },
  {
   "cell_type": "code",
   "execution_count": 27,
   "id": "26b81f3d",
   "metadata": {},
   "outputs": [
    {
     "name": "stdout",
     "output_type": "stream",
     "text": [
      "https://www.flipkart.com/hp-ms-office-2024-intel-core-i5-13th-gen-1334u-8-gb-512-gb-ssd-windows-11-home-fd0466tu-thin-light-laptop/p/itmc8ca0b60f166f?pid=COMH8QXWZPH2HVV9&lid=LSTCOMH8QXWZPH2HVV99TA8CS&marketplace=FLIPKART&q=laptop&store=6bo%2Fb5g&srno=s_1_2&otracker=search&fm=organic&iid=en_wZuG2k1ixoKRehvgFALVNJVTQQXlc6vA8UqyGhX9Mpo-TJ0G24bo9ATIy_2npZ6BUmKSoaKtUEumd9k5RWqyQw%3D%3D&ppt=None&ppn=None&ssid=1qdr4yvxz40000001747680303896&qH=312f91285e048e09\n",
      "https://www.flipkart.com/lenovo-100e-chromebook-gen-4-mediatek-kompanio-520-4-gb-32-gb-emmc-storage-chrome-os-82w00004ha/p/itm1ae5f82096ad9?pid=COMHA9FK8YXVUUWA&lid=LSTCOMHA9FK8YXVUUWAR749MF&marketplace=FLIPKART&q=laptop&store=6bo%2Fb5g&srno=s_1_3&otracker=search&fm=organic&iid=ad95a1c6-807a-479a-836c-904bd931bd33.COMHA9FK8YXVUUWA.SEARCH&ppt=None&ppn=None&ssid=1qdr4yvxz40000001747680303896&qH=312f91285e048e09\n",
      "https://www.flipkart.com/acer-aspire-3-intel-core-i5-13th-gen-1334u-16-gb-512-gb-ssd-windows-11-home-a324-53-thin-light-laptop/p/itm707770fddc7e9?pid=COMH4B6CGZKHKUV3&lid=LSTCOMH4B6CGZKHKUV37HVWQK&marketplace=FLIPKART&q=laptop&store=6bo%2Fb5g&srno=s_1_4&otracker=search&fm=organic&iid=ad95a1c6-807a-479a-836c-904bd931bd33.COMH4B6CGZKHKUV3.SEARCH&ppt=None&ppn=None&ssid=1qdr4yvxz40000001747680303896&qH=312f91285e048e09\n",
      "https://www.flipkart.com/lenovo-100e-chromebook-gen-4-mediatek-kompanio-528-4-gb-64-gb-emmc-storage-chrome-os-82w0001dha/p/itm37ef89935fcd5?pid=COMHA9FKZ7KSC3SZ&lid=LSTCOMHA9FKZ7KSC3SZ6YMQQQ&marketplace=FLIPKART&q=laptop&store=6bo%2Fb5g&srno=s_1_5&otracker=search&fm=organic&iid=ad95a1c6-807a-479a-836c-904bd931bd33.COMHA9FKZ7KSC3SZ.SEARCH&ppt=None&ppn=None&ssid=1qdr4yvxz40000001747680303896&qH=312f91285e048e09\n",
      "https://www.flipkart.com/chuwi-intel-celeron-quad-core-12th-gen-n100-8-gb-256-gb-ssd-windows-11-home-gemibook-x-pro-laptop/p/itm95998eabab6f9?pid=COMGVBZBDZJXUZFC&lid=LSTCOMGVBZBDZJXUZFCFYZTJO&marketplace=FLIPKART&q=laptop&store=6bo%2Fb5g&srno=s_1_6&otracker=search&fm=organic&iid=en_wZuG2k1ixoKRehvgFALVNJVTQQXlc6vA8UqyGhX9MpoCF4HjEb9C5DjMfY14bgjyzPzH3Ae8QEG09CR9LZHAKQ%3D%3D&ppt=None&ppn=None&ssid=1qdr4yvxz40000001747680303896&qH=312f91285e048e09\n",
      "https://www.flipkart.com/lenovo-chromebook-mediatek-kompanio-520-8-gb-128-gb-emmc-storage-chrome-os-14m868-thin-light-laptop/p/itm4dc67999fe3de?pid=COMGTR89FPA5ZWVC&lid=LSTCOMGTR89FPA5ZWVCASD6KX&marketplace=FLIPKART&q=laptop&store=6bo%2Fb5g&spotlightTagId=default_TrendingId_6bo%2Fb5g&srno=s_1_7&otracker=search&fm=organic&iid=ad95a1c6-807a-479a-836c-904bd931bd33.COMGTR89FPA5ZWVC.SEARCH&ppt=None&ppn=None&ssid=1qdr4yvxz40000001747680303896&qH=312f91285e048e09\n",
      "https://www.flipkart.com/asus-vivobook-15-intel-core-i5-12th-gen-1235u-16-gb-512-gb-ssd-windows-11-home-x1504za-nj549ws-thin-light-laptop/p/itmff0e170cb596e?pid=COMHYG8ZPYAZAFTY&lid=LSTCOMHYG8ZPYAZAFTYUFI8OO&marketplace=FLIPKART&q=laptop&store=6bo%2Fb5g&srno=s_1_8&otracker=search&fm=organic&iid=ad95a1c6-807a-479a-836c-904bd931bd33.COMHYG8ZPYAZAFTY.SEARCH&ppt=None&ppn=None&ssid=1qdr4yvxz40000001747680303896&qH=312f91285e048e09\n",
      "https://www.flipkart.com/acer-aspire-3-intel-celeron-dual-core-8-gb-128-gb-ssd-windows-11-home-a311-45-thin-light-laptop/p/itmad38595c5a902?pid=COMH7NCZGGGWQC4W&lid=LSTCOMH7NCZGGGWQC4WQSQGVR&marketplace=FLIPKART&q=laptop&store=6bo%2Fb5g&srno=s_1_9&otracker=search&fm=organic&iid=ad95a1c6-807a-479a-836c-904bd931bd33.COMH7NCZGGGWQC4W.SEARCH&ppt=None&ppn=None&ssid=1qdr4yvxz40000001747680303896&qH=312f91285e048e09\n",
      "https://www.flipkart.com/acer-aspire-3-intel-celeron-dual-core-8-gb-512-gb-ssd-windows-11-home-a311-45-thin-light-laptop/p/itmad38595c5a902?pid=COMH7NCZY2QDJ5Z4&lid=LSTCOMH7NCZY2QDJ5Z4RHDRWI&marketplace=FLIPKART&q=laptop&store=6bo%2Fb5g&srno=s_1_10&otracker=search&fm=organic&iid=ad95a1c6-807a-479a-836c-904bd931bd33.COMH7NCZY2QDJ5Z4.SEARCH&ppt=None&ppn=None&ssid=1qdr4yvxz40000001747680303896&qH=312f91285e048e09\n",
      "https://www.flipkart.com/lenovo-ideapad-slim-5-co-pilot-pc-snapdragon-x-plus-16-gb-1-tb-ssd-windows-11-home-14q8x9-thin-light-laptop/p/itm8a59041fc8c0f?pid=COMH4N9CZ7JKPQQC&lid=LSTCOMH4N9CZ7JKPQQCOFLXDU&marketplace=FLIPKART&q=laptop&store=6bo%2Fb5g&srno=s_1_11&otracker=search&fm=organic&iid=en_wZuG2k1ixoKRehvgFALVNJVTQQXlc6vA8UqyGhX9MpowYce7VviUqNJ2Mz--D_KsEEG9MBfb4FRlnBBDuTK5WRhTy0lUJ14SzoMSv_CzLF0%3D&ppt=None&ppn=None&ssid=1qdr4yvxz40000001747680303896&qH=312f91285e048e09\n",
      "https://www.flipkart.com/chuwi-intel-celeron-dual-core-11th-gen-n4020-8-gb-256-gb-ssd-windows-11-home-herobook-pro-laptop/p/itm5e1f327988402?pid=COMGQHMZWHRXFWET&lid=LSTCOMGQHMZWHRXFWETVNWSPG&marketplace=FLIPKART&q=laptop&store=6bo%2Fb5g&srno=s_1_12&otracker=search&fm=organic&iid=en_wZuG2k1ixoKRehvgFALVNJVTQQXlc6vA8UqyGhX9MppmlpYNU1hifgJ8hhAhkSKz7cgY5c2FOrJWDHnchVKaiQ%3D%3D&ppt=None&ppn=None&ssid=1qdr4yvxz40000001747680303896&qH=312f91285e048e09\n",
      "https://www.flipkart.com/asus-x1504za-intel-core-i3-12th-gen-i3-1215u-8-gb-512-gb-ssd-windows-11-home-x1504za-nj322ws-thin-light-laptop/p/itm200184e4e0443?pid=COMGT2RFWFYDGZJQ&lid=LSTCOMGT2RFWFYDGZJQGDOU5C&marketplace=FLIPKART&q=laptop&store=6bo%2Fb5g&srno=s_1_13&otracker=search&fm=organic&iid=ad95a1c6-807a-479a-836c-904bd931bd33.COMGT2RFWFYDGZJQ.SEARCH&ppt=None&ppn=None&ssid=1qdr4yvxz40000001747680303896&qH=312f91285e048e09\n",
      "https://www.flipkart.com/asus-vivobook-15-backlit-keyboard-intel-core-i5-12th-gen-1235u-16-gb-512-gb-ssd-windows-11-home-x1504za-nj540ws-x1504za-nj542ws-thin-light-laptop/p/itm200184e4e0443?pid=COMHYG8ZSP9DC2GZ&lid=LSTCOMHYG8ZSP9DC2GZECEZQA&marketplace=FLIPKART&q=laptop&store=6bo%2Fb5g&srno=s_1_14&otracker=search&fm=organic&iid=ad95a1c6-807a-479a-836c-904bd931bd33.COMHYG8ZSP9DC2GZ.SEARCH&ppt=None&ppn=None&ssid=1qdr4yvxz40000001747680303896&qH=312f91285e048e09\n",
      "https://www.flipkart.com/lenovo-v14-intel-core-i7-12th-gen-1255u-16-gb-512-gb-ssd-windows-11-home-thin-light-laptop/p/itmd9e399c20f483?pid=COMHATEYE6EA7VHT&lid=LSTCOMHATEYE6EA7VHTSG3JAF&marketplace=FLIPKART&q=laptop&store=6bo%2Fb5g&srno=s_1_15&otracker=search&fm=organic&iid=ad95a1c6-807a-479a-836c-904bd931bd33.COMHATEYE6EA7VHT.SEARCH&ppt=None&ppn=None&ssid=1qdr4yvxz40000001747680303896&qH=312f91285e048e09\n",
      "https://www.flipkart.com/lenovo-ideapad-slim-3-intel-core-i5-12th-gen-12450h-16-gb-512-gb-ssd-windows-11-home-14iah8-thin-light-laptop/p/itm726ac134d0530?pid=COMGYHP5ZB4AGZH6&lid=LSTCOMGYHP5ZB4AGZH6HABNUL&marketplace=FLIPKART&q=laptop&store=6bo%2Fb5g&srno=s_1_16&otracker=search&fm=organic&iid=ad95a1c6-807a-479a-836c-904bd931bd33.COMGYHP5ZB4AGZH6.SEARCH&ppt=None&ppn=None&ssid=1qdr4yvxz40000001747680303896&qH=312f91285e048e09\n",
      "https://www.flipkart.com/lenovo-yoga-7-wuxga-oled-intel-core-i7-13th-gen-1360p-16-gb-1-tb-ssd-windows-11-home-14irl8-2-1-laptop/p/itm3cf756c3e7c1e?pid=COMGSVFEHHH2FHVY&lid=LSTCOMGSVFEHHH2FHVYGY7SNC&marketplace=FLIPKART&q=laptop&store=6bo%2Fb5g&srno=s_1_17&otracker=search&fm=organic&iid=en_wZuG2k1ixoKRehvgFALVNJVTQQXlc6vA8UqyGhX9MppTK3fv0FY5En9HJXTtjniYXUsC-CUxwPNG5WF83_mq7uvN4Mn-dv-pi277bRzMbnY%3D&ppt=None&ppn=None&ssid=1qdr4yvxz40000001747680303896&qH=312f91285e048e09\n",
      "https://www.flipkart.com/chuwi-intel-celeron-dual-core-11th-gen-n4020-8-gb-256-gb-ssd-windows-11-home-herobook-plus-laptop/p/itm9002f3d92e61f?pid=COMGYAM9KS83NEPS&lid=LSTCOMGYAM9KS83NEPSPOX0OT&marketplace=FLIPKART&q=laptop&store=6bo%2Fb5g&srno=s_1_18&otracker=search&fm=organic&iid=en_wZuG2k1ixoKRehvgFALVNJVTQQXlc6vA8UqyGhX9MpqxPqUPkp9GGVvgkkmj_mtcU5Q3qpqwpkAHXD8BUHu9HA%3D%3D&ppt=None&ppn=None&ssid=1qdr4yvxz40000001747680303896&qH=312f91285e048e09\n",
      "https://www.flipkart.com/hp-laptop-intel-core-i3-n305-8-gb-512-gb-ssd-windows-11-home-15-fd0123tu-thin-light/p/itmd793360b80fc2?pid=COMHF6WAKCNSF4TM&lid=LSTCOMHF6WAKCNSF4TML32H4B&marketplace=FLIPKART&q=laptop&store=6bo%2Fb5g&srno=s_1_19&otracker=search&fm=organic&iid=ad95a1c6-807a-479a-836c-904bd931bd33.COMHF6WAKCNSF4TM.SEARCH&ppt=None&ppn=None&ssid=1qdr4yvxz40000001747680303896&qH=312f91285e048e09\n",
      "https://www.flipkart.com/hp-250r-g9-2024-intel-core-i3-13th-gen-1315u-13th-gen-8-gb-512-gb-ssd-windows-11-home-thin-light-laptop/p/itmff5abac6385ed?pid=COMH75KHRZHEHBNY&lid=LSTCOMH75KHRZHEHBNYFMNVCB&marketplace=FLIPKART&q=laptop&store=6bo%2Fb5g&srno=s_1_20&otracker=search&fm=organic&iid=ad95a1c6-807a-479a-836c-904bd931bd33.COMH75KHRZHEHBNY.SEARCH&ppt=None&ppn=None&ssid=1qdr4yvxz40000001747680303896&qH=312f91285e048e09\n",
      "https://www.flipkart.com/chuwi-intel-core-i3-12th-gen-1220p-8-gb-512-gb-ssd-windows-11-home-corebook-x-laptop/p/itm9904aa796f52f?pid=COMH6PUZ6WZGHZ84&lid=LSTCOMH6PUZ6WZGHZ841CWXQD&marketplace=FLIPKART&q=laptop&store=6bo%2Fb5g&srno=s_1_21&otracker=search&fm=organic&iid=en_wZuG2k1ixoKRehvgFALVNJVTQQXlc6vA8UqyGhX9Mprj_qLvgylmS_nb03jFSKRhLNCofM6yjlVAu9gc2NrxFA%3D%3D&ppt=None&ppn=None&ssid=1qdr4yvxz40000001747680303896&qH=312f91285e048e09\n",
      "https://www.flipkart.com/samsung-galaxy-book4-metal-intel-core-i3-13th-gen-1315u-8-gb-512-gb-ssd-windows-11-home-np750xgj-lg4in-thin-light-laptop/p/itm1ad811a174c21?pid=COMH4Y6KKRC9YSWE&lid=LSTCOMH4Y6KKRC9YSWERDUMZD&marketplace=FLIPKART&q=laptop&store=6bo%2Fb5g&spotlightTagId=default_BestsellerId_6bo%2Fb5g&srno=s_1_22&otracker=search&fm=organic&iid=ad95a1c6-807a-479a-836c-904bd931bd33.COMH4Y6KKRC9YSWE.SEARCH&ppt=None&ppn=None&ssid=1qdr4yvxz40000001747680303896&qH=312f91285e048e09\n",
      "https://www.flipkart.com/motorola-motobook-60-full-metal-intel-core-5-series-2-210h-16-gb-512-gb-ssd-windows-11-home-14irh10r-thin-light-laptop/p/itme7b254581c42e?pid=COMHAUZW4MMNNCGT&lid=LSTCOMHAUZW4MMNNCGTEVATRK&marketplace=FLIPKART&q=laptop&store=6bo%2Fb5g&srno=s_1_23&otracker=search&fm=organic&iid=ad95a1c6-807a-479a-836c-904bd931bd33.COMHAUZW4MMNNCGT.SEARCH&ppt=None&ppn=None&ssid=1qdr4yvxz40000001747680303896&qH=312f91285e048e09\n",
      "https://www.flipkart.com/hp-15s-backlit-keyboard-amd-ryzen-3-quad-core-7320u-8-gb-512-gb-ssd-windows-11-home-15-fc0026au-thin-light-laptop/p/itm4e6d85f618393?pid=COMGZNSBMUR7S8WY&lid=LSTCOMGZNSBMUR7S8WYYVX0NP&marketplace=FLIPKART&q=laptop&store=6bo%2Fb5g&srno=s_1_24&otracker=search&fm=organic&iid=ad95a1c6-807a-479a-836c-904bd931bd33.COMGZNSBMUR7S8WY.SEARCH&ppt=None&ppn=None&ssid=1qdr4yvxz40000001747680303896&qH=312f91285e048e09\n"
     ]
    }
   ],
   "source": [
    "for i in bigbox:\n",
    "    try:\n",
    "        if i.div and i.div.div and i.div.div.div and i.div.div.div.a and \"href\" in i.div.div.div.a.attrs:\n",
    "            print(\"https://www.flipkart.com\" + i.div.div.div.a[\"href\"])\n",
    "    except AttributeError:\n",
    "        # Skip items that don't have the expected structure\n",
    "        continue"
   ]
  },
  {
   "cell_type": "code",
   "execution_count": null,
   "id": "5bf0780d",
   "metadata": {},
   "outputs": [],
   "source": []
  },
  {
   "cell_type": "code",
   "execution_count": null,
   "metadata": {},
   "outputs": [],
   "source": []
  },
  {
   "cell_type": "code",
   "execution_count": null,
   "id": "2f04b187",
   "metadata": {},
   "outputs": [],
   "source": []
  },
  {
   "cell_type": "code",
   "execution_count": null,
   "id": "0f13c12c",
   "metadata": {},
   "outputs": [],
   "source": []
  },
  {
   "cell_type": "code",
   "execution_count": null,
   "id": "fc098965",
   "metadata": {},
   "outputs": [],
   "source": []
  }
 ],
 "metadata": {
  "kernelspec": {
   "display_name": "Python 3",
   "language": "python",
   "name": "python3"
  },
  "language_info": {
   "codemirror_mode": {
    "name": "ipython",
    "version": 3
   },
   "file_extension": ".py",
   "mimetype": "text/x-python",
   "name": "python",
   "nbconvert_exporter": "python",
   "pygments_lexer": "ipython3",
   "version": "3.13.3"
  }
 },
 "nbformat": 4,
 "nbformat_minor": 5
}
