{
 "cells": [
  {
   "cell_type": "markdown",
   "id": "319ae883",
   "metadata": {},
   "source": [
    "Web Scrapping refers to the process of extracting data from websites. Web scraping involves using a web browser's developer tools or a specialized scraping tool to extract structured data from websites."
   ]
  },
  {
   "cell_type": "code",
   "execution_count": 1,
   "id": "f63c0d4a",
   "metadata": {},
   "outputs": [],
   "source": [
    "import requests\n",
    "from bs4 import BeautifulSoup as bs\n",
    "from urllib.request import urlopen\n",
    "import logging\n"
   ]
  },
  {
   "cell_type": "markdown",
   "id": "7379b39f",
   "metadata": {},
   "source": [
    "You can provide your own search query by replacing \"laptop\" with the desired product name."
   ]
  },
  {
   "cell_type": "code",
   "execution_count": 2,
   "id": "2a5a2d78",
   "metadata": {},
   "outputs": [
    {
     "data": {
      "text/plain": [
       "'https://www.flipkart.com/search?q=laptop'"
      ]
     },
     "execution_count": 2,
     "metadata": {},
     "output_type": "execute_result"
    }
   ],
   "source": [
    "flipcart_url = \"https://www.flipkart.com/search?q=\" + \"laptop\"\n",
    "flipcart_url"
   ]
  },
  {
   "cell_type": "markdown",
   "id": "d96f0c1b",
   "metadata": {},
   "source": [
    "urlopen will open the webpage and read it's content."
   ]
  },
  {
   "cell_type": "code",
   "execution_count": 3,
   "id": "9528ac19",
   "metadata": {},
   "outputs": [],
   "source": [
    "urlclient = urlopen(flipcart_url)"
   ]
  },
  {
   "cell_type": "code",
   "execution_count": 4,
   "id": "1c9b31c9",
   "metadata": {},
   "outputs": [],
   "source": [
    "flipcart_page = urlclient.read()"
   ]
  },
  {
   "cell_type": "code",
   "execution_count": 5,
   "id": "60b8453e",
   "metadata": {},
   "outputs": [],
   "source": [
    "flipkart_html = bs(flipcart_page, \"html.parser\")"
   ]
  },
  {
   "cell_type": "code",
   "execution_count": 6,
   "id": "e38ebf20",
   "metadata": {},
   "outputs": [],
   "source": [
    "bigbox = flipkart_html.find_all(\"div\", {\"class\": \"cPHDOP col-12-12\"})"
   ]
  },
  {
   "cell_type": "code",
   "execution_count": 7,
   "id": "45f98e2c",
   "metadata": {},
   "outputs": [
    {
     "data": {
      "text/plain": [
       "30"
      ]
     },
     "execution_count": 7,
     "metadata": {},
     "output_type": "execute_result"
    }
   ],
   "source": [
    "len(bigbox)"
   ]
  },
  {
   "cell_type": "code",
   "execution_count": 8,
   "id": "2d346966",
   "metadata": {},
   "outputs": [],
   "source": [
    "del bigbox[0:3]"
   ]
  },
  {
   "cell_type": "code",
   "execution_count": 9,
   "id": "462d39b9",
   "metadata": {},
   "outputs": [
    {
     "data": {
      "text/plain": [
       "<a class=\"CGtC98\" href=\"/asus-expertbook-p1-intel-core-i5-13th-gen-13420h-16-gb-512-gb-ssd-windows-11-home-p1503cva-s70611ws-thin-light-laptop/p/itmf788da016f665?pid=COMH8Z2QRZVVN2RZ&amp;lid=LSTCOMH8Z2QRZVVN2RZ9WYQBV&amp;marketplace=FLIPKART&amp;q=laptop&amp;store=6bo%2Fb5g&amp;srno=s_1_7&amp;otracker=search&amp;fm=organic&amp;iid=dbc13d4f-eedf-4ca9-a0b1-5ca4649e5166.COMH8Z2QRZVVN2RZ.SEARCH&amp;ppt=None&amp;ppn=None&amp;ssid=73boir01xc0000001747837609052&amp;qH=312f91285e048e09\" rel=\"noopener noreferrer\" target=\"_blank\"><div class=\"Otbq5D\"><div class=\"yPq5Io\"><div><div class=\"_4WELSP\" style=\"height:200px;width:200px\"><img alt=\"ASUS Expertbook P1 Intel Core i5 13th Gen 13420H - (16 GB/512 GB SSD/Windows 11 Home) P1503CVA-S70611W...\" class=\"DByuf4\" loading=\"eager\" src=\"https://rukminim2.flixcart.com/image/312/312/xif0q/computer/n/k/v/-original-imahb8x6f2fwngg6.jpeg?q=70\"/></div></div></div><div class=\"qaR90o\"><div class=\"A8uQAd\"><span class=\"Lni97G\"><label class=\"tJjCVx\"><input class=\"vn9L2C\" readonly=\"\" type=\"checkbox\"/><div class=\"XqNaEv\"></div></label></span><label class=\"uu79Xy\"><span>Add to Compare</span></label></div></div><div class=\"oUss6M ssUU08\"><div class=\"+7E521\"><svg class=\"N1bADF\" height=\"16\" viewbox=\"0 0 20 16\" width=\"16\" xmlns=\"http://www.w3.org/2000/svg\"><path class=\"x1UMqG\" d=\"M8.695 16.682C4.06 12.382 1 9.536 1 6.065 1 3.219 3.178 1 5.95 1c1.566 0 3.069.746 4.05 1.915C10.981 1.745 12.484 1 14.05 1 16.822 1 19 3.22 19 6.065c0 3.471-3.06 6.316-7.695 10.617L10 17.897l-1.305-1.215z\" fill=\"#2874F0\" fill-rule=\"evenodd\" opacity=\".9\" stroke=\"#FFF\"></path></svg></div></div></div><div class=\"yKfJKb row\"><div class=\"col col-7-12\"><div class=\"KzDlHZ\">ASUS Expertbook P1 Intel Core i5 13th Gen 13420H - (16 GB/512 GB SSD/Windows 11 Home) P1503CVA-S70611W...</div><div class=\"_5OesEi\"><span class=\"Y1HWO0\" id=\"productRating_LSTCOMH8Z2QRZVVN2RZ9WYQBV_COMH8Z2QRZVVN2RZ_\"><div class=\"XQDdHH\">4.2<img class=\"Rza2QY\" src=\"data:image/svg+xml;base64,PHN2ZyB4bWxucz0iaHR0cDovL3d3dy53My5vcmcvMjAwMC9zdmciIHdpZHRoPSIxMyIgaGVpZ2h0PSIxMiI+PHBhdGggZmlsbD0iI0ZGRiIgZD0iTTYuNSA5LjQzOWwtMy42NzQgMi4yMy45NC00LjI2LTMuMjEtMi44ODMgNC4yNTQtLjQwNEw2LjUuMTEybDEuNjkgNC4wMSA0LjI1NC40MDQtMy4yMSAyLjg4Mi45NCA0LjI2eiIvPjwvc3ZnPg==\"/></div></span><span class=\"Wphh3N\"><span><span>173 Ratings </span><span class=\"hG7V+4\">&amp;</span><span> 30 Reviews</span></span></span></div><div class=\"_6NESgJ\"><ul class=\"G4BRas\"><li class=\"J+igdf\">Intel Core i5 Processor (13th Gen)</li><li class=\"J+igdf\">16 GB DDR5 RAM</li><li class=\"J+igdf\">Windows 11 Home Operating System</li><li class=\"J+igdf\">512 GB SSD</li><li class=\"J+igdf\">39.62 cm (15.6 inch) Display</li><li class=\"J+igdf\">Microsoft Office Home 2024, Microsoft 365 Basic</li><li class=\"J+igdf\">1 Year Onsite Warranty</li></ul></div></div><div class=\"col col-5-12 BfVC2z\"><div class=\"cN1yYO\"><div class=\"hl05eU\"><div class=\"Nx9bqj _4b5DiR\">₹52,990</div><div class=\"yRaY8j ZYYwLA\">₹<!-- -->89,990</div><div class=\"UkUFwK\"><span>41% off</span></div></div><div class=\"k6cAZE dlFt9U\"><div><div class=\"yiggsN\" style=\"color:#000000;font-size:12px;font-weight:400\">Free delivery</div></div></div></div><div class=\"_0CSTHy\"><img height=\"21\" src=\"//static-assets-web.flixcart.com/fk-p-linchpin-web/fk-cp-zion/img/fa_9e47c1.png\"/></div><div class=\"M4DNwV\"><div class=\"n5vj9c\"><div class=\"yiggsN O5Fpg8\" style=\"color:#C70055;font-size:12px;font-weight:700\">Only 1 left</div></div></div><div class=\"M4DNwV\"><div class=\"n5vj9c\"><div class=\"yiggsN O5Fpg8\" style=\"color:#000000;font-size:14px;font-style:normal;font-weight:400\">Upto </div><div class=\"yiggsN O5Fpg8\" style=\"color:#000000;font-size:14px;font-style:normal;font-weight:700\">₹25,000</div><div class=\"yiggsN O5Fpg8\" style=\"color:#000000;font-size:14px;font-style:normal;font-weight:400\"> Off on Exchange</div></div></div></div></div></a>"
      ]
     },
     "execution_count": 9,
     "metadata": {},
     "output_type": "execute_result"
    }
   ],
   "source": [
    "bigbox[5].div.div.div.a"
   ]
  },
  {
   "cell_type": "code",
   "execution_count": 10,
   "id": "26b81f3d",
   "metadata": {},
   "outputs": [
    {
     "name": "stdout",
     "output_type": "stream",
     "text": [
      "https://www.flipkart.com/chuwi-intel-core-i3-12th-gen-i3-1215u-12-gb-512-gb-ssd-windows-11-home-freebook-2-1-laptop/p/itmc5e3f409e7e39?pid=COMGQJZPSGFFF7V7&lid=LSTCOMGQJZPSGFFF7V7T2BU4F&marketplace=FLIPKART&q=laptop&store=6bo%2Fb5g&srno=s_1_2&otracker=search&fm=organic&iid=en_OlfkOdtxHtNUknKvcPyFfFG5n9pmfexFLuCQMRqm8ZYS5lBDp7GAO-SvSZObhA7mBx6jMdfDzvy5bcMRKN43hA%3D%3D&ppt=None&ppn=None&ssid=73boir01xc0000001747837609052&qH=312f91285e048e09\n",
      "https://www.flipkart.com/lenovo-100e-chromebook-gen-4-mediatek-kompanio-520-4-gb-32-gb-emmc-storage-chrome-os-82w00004ha/p/itm1ae5f82096ad9?pid=COMHA9FK8YXVUUWA&lid=LSTCOMHA9FK8YXVUUWAR749MF&marketplace=FLIPKART&q=laptop&store=6bo%2Fb5g&srno=s_1_3&otracker=search&fm=organic&iid=dbc13d4f-eedf-4ca9-a0b1-5ca4649e5166.COMHA9FK8YXVUUWA.SEARCH&ppt=None&ppn=None&ssid=73boir01xc0000001747837609052&qH=312f91285e048e09\n",
      "https://www.flipkart.com/lenovo-chromebook-mediatek-kompanio-520-8-gb-128-gb-emmc-storage-chrome-os-14m868-thin-light-laptop/p/itm4dc67999fe3de?pid=COMGTR89FPA5ZWVC&lid=LSTCOMGTR89FPA5ZWVCASD6KX&marketplace=FLIPKART&q=laptop&store=6bo%2Fb5g&srno=s_1_4&otracker=search&fm=organic&iid=dbc13d4f-eedf-4ca9-a0b1-5ca4649e5166.COMGTR89FPA5ZWVC.SEARCH&ppt=None&ppn=None&ssid=73boir01xc0000001747837609052&qH=312f91285e048e09\n",
      "https://www.flipkart.com/acer-aspire-3-intel-celeron-dual-core-8-gb-128-gb-ssd-windows-11-home-a311-45-thin-light-laptop/p/itmad38595c5a902?pid=COMH7NCZGGGWQC4W&lid=LSTCOMH7NCZGGGWQC4WZOS2IO&marketplace=FLIPKART&q=laptop&store=6bo%2Fb5g&srno=s_1_5&otracker=search&fm=organic&iid=dbc13d4f-eedf-4ca9-a0b1-5ca4649e5166.COMH7NCZGGGWQC4W.SEARCH&ppt=None&ppn=None&ssid=73boir01xc0000001747837609052&qH=312f91285e048e09\n",
      "https://www.flipkart.com/acer-swift-go-14-snapdragon-x-plus-16-gb-512-gb-ssd-windows-11-home-sfg14-01-x9c8-thin-light-laptop/p/itmd59652b059190?pid=COMH6ZKTTGFFBJZA&lid=LSTCOMH6ZKTTGFFBJZAQWS389&marketplace=FLIPKART&q=laptop&store=6bo%2Fb5g&srno=s_1_6&otracker=search&fm=organic&iid=en_OlfkOdtxHtNUknKvcPyFfFG5n9pmfexFLuCQMRqm8ZZZ-osCl1hR6V_Lf1XCpQ8k8yBNJYx91t4fwpZgfogsthhTy0lUJ14SzoMSv_CzLF0%3D&ppt=None&ppn=None&ssid=73boir01xc0000001747837609052&qH=312f91285e048e09\n",
      "https://www.flipkart.com/asus-expertbook-p1-intel-core-i5-13th-gen-13420h-16-gb-512-gb-ssd-windows-11-home-p1503cva-s70611ws-thin-light-laptop/p/itmf788da016f665?pid=COMH8Z2QRZVVN2RZ&lid=LSTCOMH8Z2QRZVVN2RZ9WYQBV&marketplace=FLIPKART&q=laptop&store=6bo%2Fb5g&srno=s_1_7&otracker=search&fm=organic&iid=dbc13d4f-eedf-4ca9-a0b1-5ca4649e5166.COMH8Z2QRZVVN2RZ.SEARCH&ppt=None&ppn=None&ssid=73boir01xc0000001747837609052&qH=312f91285e048e09\n",
      "https://www.flipkart.com/lenovo-v14-intel-core-i7-12th-gen-1255u-16-gb-512-gb-ssd-windows-11-home-thin-light-laptop/p/itmd9e399c20f483?pid=COMHATEYE6EA7VHT&lid=LSTCOMHATEYE6EA7VHTSG3JAF&marketplace=FLIPKART&q=laptop&store=6bo%2Fb5g&srno=s_1_8&otracker=search&fm=organic&iid=dbc13d4f-eedf-4ca9-a0b1-5ca4649e5166.COMHATEYE6EA7VHT.SEARCH&ppt=None&ppn=None&ssid=73boir01xc0000001747837609052&qH=312f91285e048e09\n",
      "https://www.flipkart.com/acer-aspire-3-intel-core-i5-13th-gen-1334u-16-gb-512-gb-ssd-windows-11-home-a324-53-thin-light-laptop/p/itm707770fddc7e9?pid=COMH4B6CGZKHKUV3&lid=LSTCOMH4B6CGZKHKUV37HVWQK&marketplace=FLIPKART&q=laptop&store=6bo%2Fb5g&srno=s_1_9&otracker=search&fm=organic&iid=dbc13d4f-eedf-4ca9-a0b1-5ca4649e5166.COMH4B6CGZKHKUV3.SEARCH&ppt=None&ppn=None&ssid=73boir01xc0000001747837609052&qH=312f91285e048e09\n",
      "https://www.flipkart.com/samsung-galaxy-book4-metal-intel-core-i3-13th-gen-1315u-8-gb-512-gb-ssd-windows-11-home-np750xgj-lg4in-thin-light-laptop/p/itm1ad811a174c21?pid=COMH4Y6KKRC9YSWE&lid=LSTCOMH4Y6KKRC9YSWERDUMZD&marketplace=FLIPKART&q=laptop&store=6bo%2Fb5g&spotlightTagId=default_BestsellerId_6bo%2Fb5g&srno=s_1_10&otracker=search&fm=organic&iid=dbc13d4f-eedf-4ca9-a0b1-5ca4649e5166.COMH4Y6KKRC9YSWE.SEARCH&ppt=None&ppn=None&ssid=73boir01xc0000001747837609052&qH=312f91285e048e09\n",
      "https://www.flipkart.com/asus-vivobook-15-intel-core-i3-13th-gen-1315u-16-gb-512-gb-ssd-windows-11-home-x1504va-nj2325ws-thin-light-laptop/p/itm35fb3f9516635?pid=COMH9499CDEZTNHX&lid=LSTCOMH9499CDEZTNHXLD7KLF&marketplace=FLIPKART&q=laptop&store=6bo%2Fb5g&srno=s_1_11&otracker=search&fm=organic&iid=en_OlfkOdtxHtNUknKvcPyFfFG5n9pmfexFLuCQMRqm8ZZEKmsGyM1CXXlPRo81ukVBRV3B0D8Nf9UeiM7Q6XBo9X3Gaq_wzx4HJysDmGalzMk%3D&ppt=None&ppn=None&ssid=73boir01xc0000001747837609052&qH=312f91285e048e09\n",
      "https://www.flipkart.com/asus-vivobook-go-15-amd-ryzen-3-quad-core-7320u-8-gb-512-gb-ssd-windows-11-home-e1504fa-nj130ws-thin-light-laptop/p/itmbd751bf37fd04?pid=COMH94992SQ8HYGZ&lid=LSTCOMH94992SQ8HYGZI7SK3K&marketplace=FLIPKART&q=laptop&store=6bo%2Fb5g&srno=s_1_12&otracker=search&fm=organic&iid=en_OlfkOdtxHtNUknKvcPyFfFG5n9pmfexFLuCQMRqm8ZacqZMkO6aIoSNjvEOWuV2qJ3UQfBESTLg0-06ylB-hqevN4Mn-dv-pi277bRzMbnY%3D&ppt=None&ppn=None&ssid=73boir01xc0000001747837609052&qH=312f91285e048e09\n",
      "https://www.flipkart.com/acer-aspire-3-intel-celeron-dual-core-8-gb-512-gb-ssd-windows-11-home-a311-45-thin-light-laptop/p/itmad38595c5a902?pid=COMH7NCZY2QDJ5Z4&lid=LSTCOMH7NCZY2QDJ5Z4RHDRWI&marketplace=FLIPKART&q=laptop&store=6bo%2Fb5g&srno=s_1_13&otracker=search&fm=organic&iid=dbc13d4f-eedf-4ca9-a0b1-5ca4649e5166.COMH7NCZY2QDJ5Z4.SEARCH&ppt=None&ppn=None&ssid=73boir01xc0000001747837609052&qH=312f91285e048e09\n",
      "https://www.flipkart.com/hp-laptop-intel-core-i3-n305-8-gb-512-gb-ssd-windows-11-home-15-fd0123tu-thin-light/p/itmd793360b80fc2?pid=COMHF6WAKCNSF4TM&lid=LSTCOMHF6WAKCNSF4TML32H4B&marketplace=FLIPKART&q=laptop&store=6bo%2Fb5g&srno=s_1_14&otracker=search&fm=organic&iid=dbc13d4f-eedf-4ca9-a0b1-5ca4649e5166.COMHF6WAKCNSF4TM.SEARCH&ppt=None&ppn=None&ssid=73boir01xc0000001747837609052&qH=312f91285e048e09\n",
      "https://www.flipkart.com/lenovo-100e-chromebook-gen-4-mediatek-kompanio-528-4-gb-64-gb-emmc-storage-chrome-os-82w0001dha/p/itm37ef89935fcd5?pid=COMHA9FKZ7KSC3SZ&lid=LSTCOMHA9FKZ7KSC3SZ6YMQQQ&marketplace=FLIPKART&q=laptop&store=6bo%2Fb5g&srno=s_1_15&otracker=search&fm=organic&iid=dbc13d4f-eedf-4ca9-a0b1-5ca4649e5166.COMHA9FKZ7KSC3SZ.SEARCH&ppt=None&ppn=None&ssid=73boir01xc0000001747837609052&qH=312f91285e048e09\n",
      "https://www.flipkart.com/hp-250r-g9-2024-intel-core-i3-13th-gen-1315u-13th-gen-8-gb-512-gb-ssd-windows-11-home-thin-light-laptop/p/itmff5abac6385ed?pid=COMH75KHRZHEHBNY&lid=LSTCOMH75KHRZHEHBNYFMNVCB&marketplace=FLIPKART&q=laptop&store=6bo%2Fb5g&srno=s_1_16&otracker=search&fm=organic&iid=dbc13d4f-eedf-4ca9-a0b1-5ca4649e5166.COMH75KHRZHEHBNY.SEARCH&ppt=None&ppn=None&ssid=73boir01xc0000001747837609052&qH=312f91285e048e09\n",
      "https://www.flipkart.com/lenovo-v15-g3-iap-intel-core-i5-12th-gen-1235u-16-gb-512-gb-ssd-windows-11-home-82tta07rih-thin-light-laptop/p/itm575eadcc5ae49?pid=COMH6XHKJSQN4CT3&lid=LSTCOMH6XHKJSQN4CT3NWQLQR&marketplace=FLIPKART&q=laptop&store=6bo%2Fb5g&srno=s_1_17&otracker=search&fm=organic&iid=en_OlfkOdtxHtNUknKvcPyFfFG5n9pmfexFLuCQMRqm8ZbLkewvQVrbGVpB-N9f9asxHZA3DtxyUEhPo_kI0Nlsaw%3D%3D&ppt=None&ppn=None&ssid=73boir01xc0000001747837609052&qH=312f91285e048e09\n",
      "https://www.flipkart.com/chuwi-intel-celeron-dual-core-11th-gen-n4020-8-gb-256-gb-ssd-windows-11-home-herobook-plus-laptop/p/itm9002f3d92e61f?pid=COMGYAM9KS83NEPS&lid=LSTCOMGYAM9KS83NEPSPOX0OT&marketplace=FLIPKART&q=laptop&store=6bo%2Fb5g&srno=s_1_18&otracker=search&fm=organic&iid=en_OlfkOdtxHtNUknKvcPyFfFG5n9pmfexFLuCQMRqm8ZafO9-BLUao3RgAluRyrQ_EibCLF_TfvOYO0gkAZS5tqw%3D%3D&ppt=None&ppn=None&ssid=73boir01xc0000001747837609052&qH=312f91285e048e09\n",
      "https://www.flipkart.com/lenovo-intel-core-i5-12th-gen-1235u-8-gb-512-gb-ssd-windows-11-home-g3-iap-thin-light-laptop/p/itm930d2b10f8362?pid=COMH7NDQBYSCBGNF&lid=LSTCOMH7NDQBYSCBGNFWMBLWO&marketplace=FLIPKART&q=laptop&store=6bo%2Fb5g&srno=s_1_19&otracker=search&fm=organic&iid=dbc13d4f-eedf-4ca9-a0b1-5ca4649e5166.COMH7NDQBYSCBGNF.SEARCH&ppt=None&ppn=None&ssid=73boir01xc0000001747837609052&qH=312f91285e048e09\n",
      "https://www.flipkart.com/infinix-y4-max-series-intel-core-i5-13th-gen-1335u-16-gb-512-gb-ssd-windows-11-home-yl613-thin-light-laptop/p/itmd28733993c713?pid=COMGWWBRSAFMWR3W&lid=LSTCOMGWWBRSAFMWR3WJIBRUX&marketplace=FLIPKART&q=laptop&store=6bo%2Fb5g&srno=s_1_20&otracker=search&fm=organic&iid=dbc13d4f-eedf-4ca9-a0b1-5ca4649e5166.COMGWWBRSAFMWR3W.SEARCH&ppt=None&ppn=None&ssid=73boir01xc0000001747837609052&qH=312f91285e048e09\n",
      "https://www.flipkart.com/chuwi-intel-core-i3-12th-gen-1220p-8-gb-512-gb-ssd-windows-11-home-corebook-x-laptop/p/itm9904aa796f52f?pid=COMH6PUZ6WZGHZ84&lid=LSTCOMH6PUZ6WZGHZ841CWXQD&marketplace=FLIPKART&q=laptop&store=6bo%2Fb5g&srno=s_1_21&otracker=search&fm=organic&iid=en_OlfkOdtxHtNUknKvcPyFfFG5n9pmfexFLuCQMRqm8ZbvRm0l1CMpB7OGKAhtluA6U-z1WktqfCHVSQjYYxvw0A%3D%3D&ppt=None&ppn=None&ssid=73boir01xc0000001747837609052&qH=312f91285e048e09\n",
      "https://www.flipkart.com/lenovo-ideapad-slim-3-intel-core-i5-12th-gen-12450h-16-gb-512-gb-ssd-windows-11-home-14iah8-thin-light-laptop/p/itm726ac134d0530?pid=COMGYHP5ZB4AGZH6&lid=LSTCOMGYHP5ZB4AGZH6HABNUL&marketplace=FLIPKART&q=laptop&store=6bo%2Fb5g&srno=s_1_22&otracker=search&fm=organic&iid=dbc13d4f-eedf-4ca9-a0b1-5ca4649e5166.COMGYHP5ZB4AGZH6.SEARCH&ppt=None&ppn=None&ssid=73boir01xc0000001747837609052&qH=312f91285e048e09\n",
      "https://www.flipkart.com/lenovo-chromebook-mediatek-kompanio-520-4-gb-128-gb-emmc-storage-chrome-os-14m868/p/itm4dc67999fe3de?pid=COMGSYYSHRSUEGMG&lid=LSTCOMGSYYSHRSUEGMGL82DZU&marketplace=FLIPKART&q=laptop&store=6bo%2Fb5g&srno=s_1_23&otracker=search&fm=organic&iid=dbc13d4f-eedf-4ca9-a0b1-5ca4649e5166.COMGSYYSHRSUEGMG.SEARCH&ppt=None&ppn=None&ssid=73boir01xc0000001747837609052&qH=312f91285e048e09\n",
      "https://www.flipkart.com/asus-vivobook-15-backlit-keyboard-intel-core-i5-12th-gen-1235u-16-gb-512-gb-ssd-windows-11-home-x1504za-nj540ws-x1504za-nj542ws-thin-light-laptop/p/itm200184e4e0443?pid=COMHYG8ZSP9DC2GZ&lid=LSTCOMHYG8ZSP9DC2GZECEZQA&marketplace=FLIPKART&q=laptop&store=6bo%2Fb5g&srno=s_1_24&otracker=search&fm=organic&iid=dbc13d4f-eedf-4ca9-a0b1-5ca4649e5166.COMHYG8ZSP9DC2GZ.SEARCH&ppt=None&ppn=None&ssid=73boir01xc0000001747837609052&qH=312f91285e048e09\n"
     ]
    }
   ],
   "source": [
    "for i in bigbox:\n",
    "    try:\n",
    "        if i.div and i.div.div and i.div.div.div and i.div.div.div.a and \"href\" in i.div.div.div.a.attrs:\n",
    "            print(\"https://www.flipkart.com\" + i.div.div.div.a[\"href\"])\n",
    "    except AttributeError:\n",
    "        # Skip items that don't have the expected structure\n",
    "        continue"
   ]
  },
  {
   "cell_type": "code",
   "execution_count": 12,
   "id": "5bf0780d",
   "metadata": {},
   "outputs": [],
   "source": [
    "productlink=\"https://www.flipkart.com\" + bigbox[0].div.div.div.a[\"href\"]"
   ]
  },
  {
   "cell_type": "code",
   "execution_count": 13,
   "metadata": {},
   "outputs": [
    {
     "data": {
      "text/plain": [
       "'https://www.flipkart.com/chuwi-intel-core-i3-12th-gen-i3-1215u-12-gb-512-gb-ssd-windows-11-home-freebook-2-1-laptop/p/itmc5e3f409e7e39?pid=COMGQJZPSGFFF7V7&lid=LSTCOMGQJZPSGFFF7V7T2BU4F&marketplace=FLIPKART&q=laptop&store=6bo%2Fb5g&srno=s_1_2&otracker=search&fm=organic&iid=en_OlfkOdtxHtNUknKvcPyFfFG5n9pmfexFLuCQMRqm8ZYS5lBDp7GAO-SvSZObhA7mBx6jMdfDzvy5bcMRKN43hA%3D%3D&ppt=None&ppn=None&ssid=73boir01xc0000001747837609052&qH=312f91285e048e09'"
      ]
     },
     "execution_count": 13,
     "metadata": {},
     "output_type": "execute_result"
    }
   ],
   "source": [
    "productlink"
   ]
  },
  {
   "cell_type": "code",
   "execution_count": 14,
   "id": "2f04b187",
   "metadata": {},
   "outputs": [],
   "source": [
    "prodcut_req = requests.get(productlink)"
   ]
  },
  {
   "cell_type": "code",
   "execution_count": null,
   "id": "0f13c12c",
   "metadata": {},
   "outputs": [],
   "source": [
    "product_html = bs(prodt_req.text, \"html.parser\")"
   ]
  },
  {
   "cell_type": "code",
   "execution_count": 18,
   "id": "fc098965",
   "metadata": {},
   "outputs": [],
   "source": [
    "comment_box = product_html.find_all(\"div\",{\"class\":\"ZmyHeo\"})"
   ]
  },
  {
   "cell_type": "code",
   "execution_count": 28,
   "id": "1583091d",
   "metadata": {},
   "outputs": [
    {
     "data": {
      "text/plain": [
       "<function ResultSet.__format__(format_spec, /)>"
      ]
     },
     "execution_count": 28,
     "metadata": {},
     "output_type": "execute_result"
    }
   ],
   "source": [
    "comment_box.__format__"
   ]
  },
  {
   "cell_type": "code",
   "execution_count": 19,
   "id": "46e1b65d",
   "metadata": {},
   "outputs": [
    {
     "data": {
      "text/plain": [
       "10"
      ]
     },
     "execution_count": 19,
     "metadata": {},
     "output_type": "execute_result"
    }
   ],
   "source": [
    "len(comment_box)"
   ]
  },
  {
   "cell_type": "code",
   "execution_count": 23,
   "id": "ed360430",
   "metadata": {},
   "outputs": [
    {
     "name": "stdout",
     "output_type": "stream",
     "text": [
      "Not enough p elements found\n"
     ]
    }
   ],
   "source": [
    "# Add error handling to safely extract the comment\n",
    "try:\n",
    "\tif comment_box and len(comment_box) > 0:\n",
    "\t\tp_elements = comment_box[0].div.div.find_all(\"p\", {\"class\": \"_2NsDsF AwS1CA\"})\n",
    "\t\tif len(p_elements) > 1:\n",
    "\t\t\tprint(p_elements[1].text)\n",
    "\t\telse:\n",
    "\t\t\tprint(\"Not enough p elements found\")\n",
    "\telse:\n",
    "\t\tprint(\"No comment boxes found\")\n",
    "except Exception as e:\n",
    "\tprint(f\"Error: {e}\")"
   ]
  },
  {
   "cell_type": "code",
   "execution_count": 25,
   "id": "0395db10",
   "metadata": {},
   "outputs": [
    {
     "ename": "IndexError",
     "evalue": "list index out of range",
     "output_type": "error",
     "traceback": [
      "\u001b[31m---------------------------------------------------------------------------\u001b[39m",
      "\u001b[31mIndexError\u001b[39m                                Traceback (most recent call last)",
      "\u001b[36mCell\u001b[39m\u001b[36m \u001b[39m\u001b[32mIn[25]\u001b[39m\u001b[32m, line 2\u001b[39m\n\u001b[32m      1\u001b[39m \u001b[38;5;28;01mfor\u001b[39;00m i \u001b[38;5;129;01min\u001b[39;00m comment_box:\n\u001b[32m----> \u001b[39m\u001b[32m2\u001b[39m     \u001b[38;5;28mprint\u001b[39m(\u001b[43mi\u001b[49m\u001b[43m.\u001b[49m\u001b[43mdiv\u001b[49m\u001b[43m.\u001b[49m\u001b[43mdiv\u001b[49m\u001b[43m.\u001b[49m\u001b[43mfind_all\u001b[49m\u001b[43m(\u001b[49m\u001b[33;43m\"\u001b[39;49m\u001b[33;43mp\u001b[39;49m\u001b[33;43m\"\u001b[39;49m\u001b[43m,\u001b[49m\u001b[43m{\u001b[49m\u001b[33;43m\"\u001b[39;49m\u001b[33;43mclass\u001b[39;49m\u001b[33;43m\"\u001b[39;49m\u001b[43m:\u001b[49m\u001b[33;43m\"\u001b[39;49m\u001b[33;43m_2NsDsF AwS1CA\u001b[39;49m\u001b[33;43m\"\u001b[39;49m\u001b[43m}\u001b[49m\u001b[43m)\u001b[49m\u001b[43m[\u001b[49m\u001b[32;43m0\u001b[39;49m\u001b[43m]\u001b[49m.text)\n",
      "\u001b[31mIndexError\u001b[39m: list index out of range"
     ]
    }
   ],
   "source": [
    "for i in comment_box:\n",
    "    print(i.div.div.find_all(\"p\",{\"class\":\"_2NsDsF AwS1CA\"})[0].text)"
   ]
  },
  {
   "cell_type": "code",
   "execution_count": 33,
   "id": "6729d3fc",
   "metadata": {},
   "outputs": [],
   "source": [
    "for i in comment_box:\n",
    "    try:\n",
    "        if i.div and i.div.div and i.div.div.div and i.div.div.div.div:\n",
    "            print(i.div.div.div.div.text)\n",
    "        else:\n",
    "            continue  # Skip items with incomplete structure\n",
    "    except AttributeError:\n",
    "        continue  # Skip items that raise errors"
   ]
  },
  {
   "cell_type": "code",
   "execution_count": 34,
   "id": "1d200df5",
   "metadata": {},
   "outputs": [
    {
     "ename": "AttributeError",
     "evalue": "'NoneType' object has no attribute 'p'",
     "output_type": "error",
     "traceback": [
      "\u001b[31m---------------------------------------------------------------------------\u001b[39m",
      "\u001b[31mAttributeError\u001b[39m                            Traceback (most recent call last)",
      "\u001b[36mCell\u001b[39m\u001b[36m \u001b[39m\u001b[32mIn[34]\u001b[39m\u001b[32m, line 1\u001b[39m\n\u001b[32m----> \u001b[39m\u001b[32m1\u001b[39m \u001b[43mcomment_box\u001b[49m\u001b[43m[\u001b[49m\u001b[32;43m0\u001b[39;49m\u001b[43m]\u001b[49m\u001b[43m.\u001b[49m\u001b[43mdiv\u001b[49m\u001b[43m.\u001b[49m\u001b[43mdiv\u001b[49m\u001b[43m.\u001b[49m\u001b[43mdiv\u001b[49m\u001b[43m.\u001b[49m\u001b[43mp\u001b[49m.text\n",
      "\u001b[31mAttributeError\u001b[39m: 'NoneType' object has no attribute 'p'"
     ]
    }
   ],
   "source": [
    "comment_box[0].div.div.div.p.text"
   ]
  }
 ],
 "metadata": {
  "kernelspec": {
   "display_name": "Python 3",
   "language": "python",
   "name": "python3"
  },
  "language_info": {
   "codemirror_mode": {
    "name": "ipython",
    "version": 3
   },
   "file_extension": ".py",
   "mimetype": "text/x-python",
   "name": "python",
   "nbconvert_exporter": "python",
   "pygments_lexer": "ipython3",
   "version": "3.13.3"
  }
 },
 "nbformat": 4,
 "nbformat_minor": 5
}
